{
 "cells": [
  {
   "cell_type": "code",
   "execution_count": 1,
   "metadata": {},
   "outputs": [],
   "source": [
    "from statsmodels.tsa.stattools import adfuller\n",
    "import matplotlib.pyplot as plt\n",
    "import pandas as pd\n",
    "\n",
    "def test_stationarity(df, ts):\n",
    "    \"\"\"\n",
    "    Test stationarity using moving average statistics and Dickey-Fuller test\n",
    "    Source: https://www.analyticsvidhya.com/blog/2016/02/time-series-forecasting-codes-python/\n",
    "    \"\"\"\n",
    "    \n",
    "    # Determing rolling statistics\n",
    "    rolmean = df[ts].rolling(window = 12, center = False).mean()\n",
    "    rolstd  = df[ts].rolling(window = 12, center = False).std()\n",
    "    \n",
    "    # Plot rolling statistics:\n",
    "    orig = plt.plot(df[ts], color = 'blue', label = 'Original')\n",
    "    mean = plt.plot(rolmean, color = 'red', label = 'Rolling Mean')\n",
    "    std  = plt.plot(rolstd, color = 'black', label = 'Rolling Std')\n",
    "\n",
    "    plt.legend(loc = 'best')\n",
    "    plt.title('Rolling Mean & Standard Deviation for %s' %(ts))\n",
    "    plt.xticks(rotation = 45)\n",
    "    plt.show(block = False)\n",
    "    plt.close()\n",
    "    \n",
    "    # Perform Dickey-Fuller test:\n",
    "    # Null Hypothesis (H_0): time series is not stationary\n",
    "    # Alternate Hypothesis (H_1): time series is stationary\n",
    "    print ('Results of Dickey-Fuller Test:')\n",
    "    dftest   = adfuller(df[ts], autolag='AIC')\n",
    "    dfoutput = pd.Series(dftest[0:4], \n",
    "                         index = ['Test Statistic',\n",
    "                                  'p-value',\n",
    "                                  '# Lags Used',\n",
    "                                  'Number of Observations Used'])\n",
    "    for key, value in dftest[4].items():\n",
    "        dfoutput['Critical Value (%s)'%key] = value\n",
    "    print (dfoutput)"
   ]
  },
  {
   "cell_type": "code",
   "execution_count": null,
   "metadata": {},
   "outputs": [],
   "source": []
  }
 ],
 "metadata": {
  "kernelspec": {
   "display_name": "Python 3",
   "language": "python",
   "name": "python3"
  },
  "language_info": {
   "codemirror_mode": {
    "name": "ipython",
    "version": 3
   },
   "file_extension": ".py",
   "mimetype": "text/x-python",
   "name": "python",
   "nbconvert_exporter": "python",
   "pygments_lexer": "ipython3",
   "version": "3.7.7"
  }
 },
 "nbformat": 4,
 "nbformat_minor": 4
}
